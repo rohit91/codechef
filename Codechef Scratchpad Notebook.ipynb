{
 "cells": [
  {
   "cell_type": "code",
   "execution_count": 10,
   "metadata": {
    "collapsed": false
   },
   "outputs": [
    {
     "name": "stdout",
     "output_type": "stream",
     "text": [
      "0\n"
     ]
    }
   ],
   "source": [
    "def numTrailingZeros(num):\n",
    "    div = True\n",
    "    count = 0\n",
    "    while(div and (num != 0)):\n",
    "        if num % 10 == 0:\n",
    "            count += 1\n",
    "            num /= 10\n",
    "        else:\n",
    "            div = False\n",
    "    return count\n",
    "\n",
    "print numTrailingZeros(111)"
   ]
  },
  {
   "cell_type": "code",
   "execution_count": 15,
   "metadata": {
    "collapsed": false
   },
   "outputs": [
    {
     "name": "stdout",
     "output_type": "stream",
     "text": [
      "3628800\n"
     ]
    }
   ],
   "source": [
    "def factorial(num):\n",
    "    result = 1\n",
    "    if num <= 1:\n",
    "        return 1\n",
    "    else:\n",
    "        while(num>1):\n",
    "            result *= num\n",
    "            num -= 1\n",
    "        \n",
    "        return result\n",
    "        \n",
    "print factorial(10)"
   ]
  },
  {
   "cell_type": "code",
   "execution_count": 16,
   "metadata": {
    "collapsed": false
   },
   "outputs": [
    {
     "data": {
      "text/plain": [
       "2"
      ]
     },
     "execution_count": 16,
     "metadata": {},
     "output_type": "execute_result"
    }
   ],
   "source": [
    "numTrailingZeros(factorial(12))"
   ]
  },
  {
   "cell_type": "code",
   "execution_count": 17,
   "metadata": {
    "collapsed": false
   },
   "outputs": [
    {
     "name": "stdout",
     "output_type": "stream",
     "text": [
      "23 90\n"
     ]
    }
   ],
   "source": [
    "def nums(num):\n",
    "    nTen=0\n",
    "    nFive=0\n",
    "    nTwo=0\n",
    "    if num % 10 == 0:\n",
    "        nTen = numTen(num)\n",
    "    elif num % 10 == 5:\n",
    "        nFive = numFive(num)\n",
    "    elif num % 2 == 0:\n",
    "        nTwo = numTwo(num)\n",
    "    \n",
    "    return (nTen + nFive, nTen + nTwo)\n",
    "\n",
    "numF,numT=0,0\n",
    "\n",
    "for i in range(1,100+1):\n",
    "    temp = nums(i)\n",
    "    numF += temp[0]\n",
    "    numT += temp[1]\n",
    "    \n",
    "print numF, numT"
   ]
  },
  {
   "cell_type": "code",
   "execution_count": 1,
   "metadata": {
    "collapsed": false
   },
   "outputs": [
    {
     "name": "stdout",
     "output_type": "stream",
     "text": [
      "2\n"
     ]
    }
   ],
   "source": [
    "def numTen(num):\n",
    "    div = True\n",
    "    count = 0\n",
    "    while(div and (num != 0)):\n",
    "        if num % 10 == 0:\n",
    "            count += 1\n",
    "            num /= 10\n",
    "        else:\n",
    "            div = False\n",
    "    return count\n",
    "\n",
    "print numTen(100)"
   ]
  },
  {
   "cell_type": "code",
   "execution_count": 3,
   "metadata": {
    "collapsed": false
   },
   "outputs": [
    {
     "name": "stdout",
     "output_type": "stream",
     "text": [
      "10\n"
     ]
    }
   ],
   "source": [
    "def numTwo(num):\n",
    "    div = True\n",
    "    count = 0\n",
    "    while(div and (num != 0)):\n",
    "        if num % 2 == 0:\n",
    "            count += 1\n",
    "            num /= 2\n",
    "        else:\n",
    "            div = False\n",
    "    return count\n",
    "\n",
    "print numTwo(1024)"
   ]
  },
  {
   "cell_type": "code",
   "execution_count": 5,
   "metadata": {
    "collapsed": false
   },
   "outputs": [
    {
     "name": "stdout",
     "output_type": "stream",
     "text": [
      "2\n"
     ]
    }
   ],
   "source": [
    "def numFive(num):\n",
    "    div = True\n",
    "    count = 0\n",
    "    while(div and (num != 0)):\n",
    "        if num % 10 == 5:\n",
    "            count += 1\n",
    "            num /= 5\n",
    "        else:\n",
    "            div = False\n",
    "    return count\n",
    "print numFive(25)"
   ]
  },
  {
   "cell_type": "code",
   "execution_count": 10,
   "metadata": {
    "collapsed": false
   },
   "outputs": [
    {
     "name": "stdout",
     "output_type": "stream",
     "text": [
      "2183837 8735363\n"
     ]
    }
   ],
   "source": [
    "def factors(num):\n",
    "    if num == 0:\n",
    "        return (0,0)\n",
    "    \n",
    "    if num % 10 == 0:\n",
    "        result = factors(num/10)\n",
    "        return (1 + result[0], 1 + result[1]) \n",
    "    elif num % 10 == 5:\n",
    "        result = factors(num/5)\n",
    "        return (1 + result[0], result[1]) \n",
    "    elif num % 2 == 0:\n",
    "        result = factors(num/2)\n",
    "        return (result[0], 1 + result[1]) \n",
    "    else:\n",
    "        return (0,0)\n",
    "    \n",
    "fact5, fact2 = 0,0 \n",
    "for i in range(1, 8735373 + 1):\n",
    "    result = factors(i)\n",
    "    fact5 += result[0]\n",
    "    fact2 += result[1]\n",
    "print fact5,fact2"
   ]
  },
  {
   "cell_type": "code",
   "execution_count": null,
   "metadata": {
    "collapsed": true
   },
   "outputs": [],
   "source": []
  }
 ],
 "metadata": {
  "kernelspec": {
   "display_name": "Python 2",
   "language": "python",
   "name": "python2"
  },
  "language_info": {
   "codemirror_mode": {
    "name": "ipython",
    "version": 2
   },
   "file_extension": ".py",
   "mimetype": "text/x-python",
   "name": "python",
   "nbconvert_exporter": "python",
   "pygments_lexer": "ipython2",
   "version": "2.7.6"
  }
 },
 "nbformat": 4,
 "nbformat_minor": 0
}
